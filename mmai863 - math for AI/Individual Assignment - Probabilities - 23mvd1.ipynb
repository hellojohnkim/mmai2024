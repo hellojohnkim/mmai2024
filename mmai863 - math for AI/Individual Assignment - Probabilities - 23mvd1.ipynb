{
 "cells": [
  {
   "cell_type": "markdown",
   "metadata": {},
   "source": [
    "# MMAI-863 Fall 2023 Individual Assignment - Probability\n",
    "### John Kim 23MVD1"
   ]
  },
  {
   "cell_type": "markdown",
   "metadata": {},
   "source": [
    "**2.21 Registrants at a large convention are offered 6 sightseeing tours on each of 3 days. In how many ways can a person arrange to go on a sightseeing tour planned by this convention?**\n",
    "\n",
    "#### 6 tours on each of 3 days\n",
    "#### 6 * 3 = 18 ways to arrange a tour"
   ]
  },
  {
   "cell_type": "markdown",
   "metadata": {},
   "source": [
    "**2.22 In a medical study, patients are classified in 8 ways according to whether they have blood type AB+, AB−, A+, A−, B+, B−, O+, or O−, and also according to whether their blood pressure is low, normal, or high. Find the number of ways in which a patient can be classified.**\n",
    "\n",
    "\n",
    "#### 8 ways to classify blood type\n",
    "#### 3 ways to classify blood pressure\n",
    "#### 8 * 3 = 24 ways to classify a patient\n"
   ]
  },
  {
   "cell_type": "markdown",
   "metadata": {
    "vscode": {
     "languageId": "html"
    }
   },
   "source": [
    "**2.23 If an experiment consists of throwing a die and then drawing a letter at random from the English alphabet (26 letters), \n",
    "how many points are there in the sample space?**\n",
    "\n",
    "#### Throwing a die: 6 possible outcomes.\n",
    "#### Drawing a letter from the English alphabet: 26 possible outcomes.\n",
    "\n",
    "#### Therefore, the total number of points in the sample space is 6 x 26 = 156.\n",
    "\n",
    "\n"
   ]
  },
  {
   "cell_type": "markdown",
   "metadata": {
    "vscode": {
     "languageId": "html"
    }
   },
   "source": [
    "**2.24 Students at a private liberal arts college are classified as being freshmen, sophomores, juniors, or seniors, and also according to whether they are male or female. \n",
    "Find the total number of possible classifications for the students of that college.**\n",
    "\n",
    "#### Year in college: There are 4 classifications (freshmen, sophomores, juniors, or seniors).\n",
    "#### Gender: There are 2 classifications (male or female).\n",
    "\n",
    "#### Therefore, the total number of possible classifications is 4 x 2 = 8.\n",
    "\n"
   ]
  },
  {
   "cell_type": "markdown",
   "metadata": {
    "vscode": {
     "languageId": "html"
    }
   },
   "source": [
    "**2.25 A certain brand of shoes comes in 5 different styles, with each style available in 4 distinct colors. \n",
    "If the store wishes to display pairs of these shoes showing all of its various styles and colors, \n",
    "how many different pairs will the store have on display?**\n",
    "\n",
    "#### Styles: There are 5 different styles.\n",
    "#### Colors: Each style is available in 4 distinct colors.\n",
    "\n",
    "#### Therefore, the total number of pairs is 20 (5 * 4 = 20)\n"
   ]
  },
  {
   "cell_type": "markdown",
   "metadata": {
    "vscode": {
     "languageId": "html"
    }
   },
   "source": [
    "**2.26 A California study concluded that following 7 simple health rules can extend a man’s life by 11 years on the average and a woman’s life by 7 years. \n",
    "These 7 rules are as follows: no smoking, get regular exercise, use alcohol only in moderation, get 7 to 8 hours of sleep, maintain proper weight, eat breakfast, and do not eat between meals. \n",
    "In how many ways can a person adopt 5 of these rules to follow**\n",
    "\n",
    "**(a) if the person presently violates all 7 rules?**\n",
    "\n",
    "**(b) if the person never drinks and always eats break- fast?**\n",
    "\n",
    "#### (a) there are 7C5 = 21 ways.\n",
    "\n",
    "#### (b) there are 5C3 = 10 ways.\n"
   ]
  },
  {
   "cell_type": "markdown",
   "metadata": {
    "vscode": {
     "languageId": "html"
    }
   },
   "source": [
    "**2.38 Four married couples have bought 8 seats in the same row for a concert. In how many different ways can they be seated**\n",
    "\n",
    "**(a) with no restrictions?**\n",
    "**(b) if each couple is to sit together?**\n",
    "**(c) if all the men sit together to the right of all the women?**\n",
    "\n",
    "#### (a) There are 8! = 40320 ways.\n",
    "\n",
    "#### (b) There are 4! * 2^4 = 384 ways to seat the 8 people.\n",
    "\n",
    "#### (c) There are 4! * 4! = 576 ways"
   ]
  },
  {
   "cell_type": "markdown",
   "metadata": {
    "vscode": {
     "languageId": "html"
    }
   },
   "source": [
    "**2.45 How many distinct permutations can be made from the letters of the word INFINITY ?**\n",
    "\n",
    "#### There are 8 letters in the word INFINITY. \n",
    "#### The letter I appears twice, the letter N appears twice, and the letter F appears twice. \n",
    "#### Therefore, the number of distinct permutations is 8! / (2! * 2! * 2!) = 5040 arrangements\n"
   ]
  },
  {
   "cell_type": "markdown",
   "metadata": {
    "vscode": {
     "languageId": "html"
    }
   },
   "source": [
    "**2.49 Find the errors in each of the following statements:**\n",
    "**(a) The probabilities that an automobile salesperson will sell 0, 1, 2, or 3 cars on any given day in Febru- ary are, respectively, 0.19, 0.38, 0.29, and 0.15.**\n",
    "**(b) The probability that it will rain tomorrow is 0.40, and the probability that it will not rain tomorrow is 0.52.**\n",
    "**(c) The probabilities that a printer will make 0, 1, 2, 3, or 4 or more mistakes in setting a document are, respectively, 0.19, 0.34, −0.25, 0.43, and 0.29.**\n",
    "**(d) On a single draw from a deck of playing cards, the probability of selecting a heart is 1/4, the probability of selecting a black card is 1/2, and the probability of selecting both a heart and a black card is 1/8.**\n",
    "\n",
    "#### (a) The probabilities are, 0.19, 0.38, 0.29, and 0.15. \n",
    "#### The sum of these probabilities is 1.01, which is greater than 1. Therefore, these probabilities are not valid.\n",
    "\n",
    "#### (b) The probabilites are 0.40 and 0.52. The sum of these probabilities is 0.92, which is less than 1. Therefore, these probabilities are not valid.\n",
    "\n",
    "#### (c) The probability of making 2 mistakes is negative. Thus, these probabilities are not valid.\n",
    "\n",
    "#### (d) Proability of both a heart and a black is 0.\n",
    "\n"
   ]
  },
  {
   "cell_type": "markdown",
   "metadata": {
    "vscode": {
     "languageId": "html"
    }
   },
   "source": [
    "**2.4 An experiment involves tossing a pair of dice, one green and one red, and recording the numbers that come up. If x equals the outcome on the green die and y the outcome on the red die, describe the sample space S**\n",
    "**(a) by listing the elements (x, y);**\n",
    "**(b) by using the rule method.**\n",
    "\n",
    "#### (a) The sample space S is {(1, 1), (1, 2), (1, 3), (1, 4), (1, 5), (1, 6), (2, 1), (2, 2), (2, 3), (2, 4), (2, 5), (2, 6), (3, 1), (3, 2), (3, 3), (3, 4), (3, 5), (3, 6), (4, 1), (4, 2), (4, 3), (4, 4), (4, 5), (4, 6), (5, 1), (5, 2), (5, 3), (5, 4), (5, 5), (5, 6), (6, 1), (6, 2), (6, 3), (6, 4), (6, 5), (6, 6)}\n",
    "\n",
    "#### (b) The sample space S is {(x,y) | 1 <= (x,y) <= 6}."
   ]
  },
  {
   "cell_type": "markdown",
   "metadata": {
    "vscode": {
     "languageId": "html"
    }
   },
   "source": [
    "**2.8 For the sample space of Exercise 2.4,**\n",
    "**#(a) list the elements corresponding to the event A that the sum is greater than 8;**\n",
    "**#(b) list the elements corresponding to the event B that a 2 occurs on either die;**\n",
    "**#(c) list the elements corresponding to the event C that a number greater than 4 comes up on the green die; (d) list the elements corresponding to the event A ∩ C;**\n",
    "**#(e) list the elements corresponding to the event A ∩ B;**\n",
    "**#(f) list the elements corresponding to the event B ∩ C;**\n",
    "**#(g) construct a Venn diagram to illustrate the intersections and unions of the events A, B, and C.**\n",
    "\n",
    "#### (a) A= {(3, 6), (4, 5), (4, 6), (5, 4), (5, 5), (5, 6), (6, 3), (6, 4), (6, 5), (6, 6)}\n",
    "\n",
    "#### (b) B= {(1, 2), (2, 1), (2, 2), (2, 3), (2, 4), (2, 5), (2, 6)}\n",
    "\n",
    "#### (c) C= {(5, 1), (5, 2), (5, 3), (5, 4), (5, 5), (5, 6), (6, 1), (6, 2), (6, 3), (6, 4), (6, 5), (6, 6)}\n",
    "\n",
    "#### (d) A ∩ C = {(5, 4), (5, 5), (5, 6), (6, 3), (6, 4), (6, 5), (6, 6)}\n",
    "\n",
    "#### (e) A ∩ B = 0\n",
    "\n",
    "#### (f) B ∩ C {(5, 2), (6, 2)}\n",
    "\n",
    "#### (g) The Venn diagram is attached\n",
    "\n",
    "<img src=\"/Users/johnkim/Documents/GitHub/mmai863/Venn_Diagram-Q2.8-f.png\" width=600px height=400px />\n"
   ]
  },
  {
   "cell_type": "markdown",
   "metadata": {
    "vscode": {
     "languageId": "html"
    }
   },
   "source": [
    "**2.50 Assuming that all elements of S in Exercise 2.8 on page 42 are equally likely to occur, find:**\n",
    "**(a) the probability of event A;**\n",
    "**(b) the probability of event C;**\n",
    "**(c) the probability of event A ∩ C.**\n",
    "\n",
    "#### (a) P(A) = 10/36 = 5/18.\n",
    "\n",
    "#### (b) P(C) = 12/36 = 1/3.\n",
    "\n",
    "#### (c) P(A ∩ C) = 7/36."
   ]
  },
  {
   "cell_type": "markdown",
   "metadata": {
    "vscode": {
     "languageId": "html"
    }
   },
   "source": [
    "**2.54 From past experience, a stockbroker believes that under present economic conditions a customer will invest in tax- free bonds with a probability of 0.6, will invest in mutual funds with a probability of 0.3, and will invest in both tax-free bonds and mutual funds with a probability of 0.15. At this time, find the prob- ability that a customer will invest**\n",
    "**(a) in either tax-free bonds or mutual funds;**\n",
    "**(b) in neither tax-free bonds nor mutual funds.**\n",
    "\n",
    "#### (a) P(Tax-Free Bonds U Mutual Funds) = 0.6 + 0.3 − 0.15 = 0.75.\n",
    "\n",
    "#### (b) P(Tax-Free Bonds' ∩ Mutual Funds' ) is 1 − 0.75 = 0.25.\n",
    "\n"
   ]
  },
  {
   "cell_type": "markdown",
   "metadata": {
    "vscode": {
     "languageId": "html"
    }
   },
   "source": [
    "**2.63 According to Consumer Digest (July/August 1996), the probable location of personal computers (PC) in the home is as follows:**\n",
    "**Adult bedroom: 0.03 Child bedroom: 0.15 Other bedroom: 0.14 Office or den: 0.40 Other rooms: 0.28**\n",
    "**(a) What is the probability that a PC is in a bedroom?**\n",
    "**(b) What is the probability that it is not in a bedroom?**\n",
    "**(c) Suppose a household is selected at random from households with a PC; in what room would you expect to find a PC?**\n",
    "\n",
    "#### (a)  P(PC in Bedroom) = 0.03 + 0.15 + 0.14 = 0.32.\n",
    "\n",
    "#### (b) P(PC in Bedroom') 1 − 0.32 = 0.68.\n",
    "\n",
    "#### (c) Either in Office or Den"
   ]
  },
  {
   "cell_type": "markdown",
   "metadata": {
    "vscode": {
     "languageId": "html"
    }
   },
   "source": [
    "**2.66 Factory workers are constantly encouraged to practice zero tolerance when it comes to accidents in factories.**\n",
    "**Accidents can occur because the working environment or conditions themselves are unsafe.**\n",
    "**On the other hand, accidents can occur due to carelessness or so-called human error.**\n",
    "**In addition, the worker’s shift, 7:00 A.M.–3:00 P.M. (day shift), 3:00 P.M.–11:00 P.M. (evening shift), or 11:00 P.M.–7:00 A.M. (graveyard shift), may be a factor.**\n",
    "\n",
    "**If an accident report is selected randomly from the 300 reports,**\n",
    "**(a) what is the probability that the accident occurred on the graveyard shift?**\n",
    "**(b) what is the probability that the accident occurred due to human error?**\n",
    "**(c) what is the probability that the accident occurred due to unsafe conditions?**\n",
    "**(d) what is the probability that the accident occurred on either the evening or the graveyard shift?**\n",
    "\n",
    "#### (a) P(Graveyard Shift Accident) = 0.2.\n",
    "\n",
    "#### (b) P(Human Error Accident) =  is 0.29.\n",
    "\n",
    "#### (c) P(Unsafe Condition Accident) = 0.13.\n",
    "\n",
    "#### (d) P(Evening Shift Accident  U Graveyard Shift Accident ) = 0.14\n"
   ]
  },
  {
   "cell_type": "markdown",
   "metadata": {},
   "source": [
    "**2.76 In an experiment to study the relationship of hypertension and smoking habits, the following data are collected for 180 individuals:**\n",
    "**where H and NH in the table stand for Hypertension and Nonhypertension, respectively. If one of these indi- viduals is selected at random, find the probability that the person is**\n",
    "**(a) experiencing hypertension, given that the person is a heavy smoker;**\n",
    "**(b) a nonsmoker, given that the person is experiencing no hypertension.**\n",
    "\n",
    "#### (a) The probability that the person is experiencing hypertension, given that the person is a heavy smoker is 30/49 = 0.6122.\n",
    "\n",
    "#### (b) The probability that the person is a nonsmoker, given that the person is experiencing no hypertension is 48/67 = 0.7164.\n"
   ]
  },
  {
   "cell_type": "markdown",
   "metadata": {
    "vscode": {
     "languageId": "html"
    }
   },
   "source": [
    "**2.80 The probability that an automobile being filled with gasoline also needs an oil change is 0.25; the probability that it needs a new oil filter is 0.40; and the probability that both the oil and the filter need changing is 0.14.**\n",
    "**(a) If the oil has to be changed, what is the probability that a new oil filter is needed?**\n",
    "**(b) If a new oil filter is needed, what is the probability that the oil has to be changed?**\n",
    "\n",
    "#### P(Oil Filter | Oil Change) = P(Oil Filter ∩ Oil Change)/P(Oil Change) 0.14/0.25 = 0.56.\n",
    "\n",
    "#### P(Oil Change | Oil Filter) = P(Oil Change ∩ Oil Filter)/P(Oil Filter) = 0.14/0.40 = 0.35\n"
   ]
  },
  {
   "cell_type": "markdown",
   "metadata": {},
   "source": [
    "**2.90 Pollution of the rivers in the United States has been a problem for many years. Consider the following events:**\n",
    "**A: the river is polluted,**\n",
    "**B : a sample of water tested detects pollution,**\n",
    "**C : fishing is permitted.**\n",
    "**Assume P(A) = 0.3, P(B|A) = 0.75, P(B|A′) = 0.20, P (C|A∩B) = 0.20, P (C|A′ ∩B) = 0.15, P (C|A∩B′) = 0.80, and P(C|A′ ∩ B′) = 0.90.**\n",
    "**(a) Find P(A ∩ B ∩ C).**\n",
    "**(b) Find P(B′ ∩C).**\n",
    "**(c) Find P(C).**\n",
    "**(d) Find the probability that the river is polluted, given that fishing is permitted and the sample tested did not detect pollution.**\n",
    "\n",
    "#### (a) P(A ∩ B ∩ C) = P(A) * P(B|A) * P(C|A ∩ B) = 0.3 * 0.75 * 0.20 = 0.045.\n",
    "\n",
    "#### (b) P(B′ ∩ C) = P(A ∩ B'∩ C) + P(A' ∩ B' ∩ C) \n",
    "#### = P(C | A ∩ B') * P(B' | A) * P(A) + P(C| A' ∩ B')* P(B'|A) * P(A')\n",
    "#### = (0.8) * (1 - 0.75) * (0.3)  + (0.9) * (1 - 0.2) * (1 - 0.3) = 0.564\n",
    "\n",
    "#### (c) P(C) = P(A ∩ B ∩ C) + P(A ∩ B' ∩ C) + P(A' ∩ B ∩ C) + P (A' ∩ B' ∩ C)\n",
    "#### = 0.045 + 0.06 + 0.021 + 0.504  = 0.63\n",
    "\n",
    "#### (d) P(A|B' ∩ C) = P(A ∩ B' ∩ C) / P(B' ∩ C) = 0.06 / 0.564 = 0.106\n",
    "\n",
    "\n"
   ]
  },
  {
   "cell_type": "markdown",
   "metadata": {
    "vscode": {
     "languageId": "html"
    }
   },
   "source": [
    "**2.100 A regional telephone company operates three identical relay stations at different locations. During a one-year period, the number of malfunctions reported by each station and the causes are shown below.**\n",
    "**Suppose that a malfunction was reported and it was found to be caused by other human errors. What is the probability that it came from station C?**\n",
    "\n",
    "#### P(C|E) = P(C ∩ E) / P(E) \n",
    "#### = P(C) * P(E|C) / P(E) \n",
    "#### = 0.3 * 0.25 / 0.25 = 0.3\n",
    "\n",
    "\n"
   ]
  },
  {
   "cell_type": "markdown",
   "metadata": {
    "vscode": {
     "languageId": "html"
    }
   },
   "source": [
    "**2.102 Denote by A, B, and C the events that a grand prize is behind doors A, B, and C, respectively. Suppose you randomly picked a door, say A. The game host opened a door, say** **B, and showed there was no prize behind it. Now the host offers you the option of either staying at the door that you picked (A) or switching to the remaining unopened door (C).**\n",
    "**Use probability to explain whether you should switch or not.**\n",
    "\n",
    "#### P(A) = P(B) = P(C) = 1/3. \n",
    "#### P(A|B) = P(A ∩ B) / P(B) = P(A) * P(B|A) / P(B) = 1/3 * 1/2 / 1/3 = 1/2. \n",
    "#### P(C|B) = P(C ∩ B) / P(B) = P(C) * P(B|C) / P(B) = 1/3 * 1 / 1/3 = 1. \n",
    "#### Therefore, you should switch to the remaining unopened door (C).\n",
    "\n"
   ]
  }
 ],
 "metadata": {
  "kernelspec": {
   "display_name": "Python 3",
   "language": "python",
   "name": "python3"
  },
  "language_info": {
   "codemirror_mode": {
    "name": "ipython",
    "version": 3
   },
   "file_extension": ".py",
   "mimetype": "text/x-python",
   "name": "python",
   "nbconvert_exporter": "python",
   "pygments_lexer": "ipython3",
   "version": "3.11.3"
  },
  "orig_nbformat": 4
 },
 "nbformat": 4,
 "nbformat_minor": 2
}

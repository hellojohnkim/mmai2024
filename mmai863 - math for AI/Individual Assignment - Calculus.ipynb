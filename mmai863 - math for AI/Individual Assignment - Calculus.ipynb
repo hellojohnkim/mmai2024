{
 "cells": [
  {
   "cell_type": "markdown",
   "metadata": {},
   "source": [
    "# MMAI-863 -  Individual Assignment - Calculus - John Kim - Sep 26 2023"
   ]
  },
  {
   "cell_type": "code",
   "execution_count": 2,
   "metadata": {},
   "outputs": [],
   "source": [
    "import torch\n",
    "import numpy as np"
   ]
  },
  {
   "cell_type": "code",
   "execution_count": 7,
   "metadata": {},
   "outputs": [
    {
     "name": "stdout",
     "output_type": "stream",
     "text": [
      "X:  tensor([[1., 1., 1.],\n",
      "        [1., 1., 2.],\n",
      "        [1., 2., 1.],\n",
      "        [1., 2., 2.],\n",
      "        [1., 3., 3.]])\n",
      "Y:  tensor([[ 4.0100],\n",
      "        [ 5.9900],\n",
      "        [ 5.0100],\n",
      "        [ 7.8800],\n",
      "        [10.0100]])\n"
     ]
    }
   ],
   "source": [
    "# Create the tensors x and y (remember the constant factor ( = 1) to include an intercept\n",
    "# X1 // X2 // Y\n",
    "# 1 // 1 / /4.01\n",
    "# 1 // 2 // 5.99\n",
    "# 2 // 1 // 5.01\n",
    "# 2 // 2 // 7.88\n",
    "# 3 // 3 //10.01\n",
    "\n",
    "x = torch.tensor([[1, 1, 1], [1, 1, 2], [1, 2, 1], [1, 2, 2], [1, 3, 3]], dtype=torch.float)\n",
    "y = torch.tensor([[4.01], [5.99], [5.01], [7.88], [10.01]], dtype=torch.float)\n",
    "\n",
    "print(\"X: \", x)\n",
    "print(\"Y: \", y)"
   ]
  },
  {
   "cell_type": "code",
   "execution_count": 8,
   "metadata": {},
   "outputs": [
    {
     "name": "stdout",
     "output_type": "stream",
     "text": [
      "Beta:  tensor([[1.0391],\n",
      "        [1.0491],\n",
      "        [2.0291]])\n"
     ]
    }
   ],
   "source": [
    "# Apply the equation β = ((X^T)*X)^-1 * (X^T)*Y to calculate the matrix β using Python (PyTorch will work, but choose your preferred library)\n",
    "\n",
    "# Calculate the transpose of X\n",
    "x_transpose = torch.transpose(X, 0, 1)\n",
    "\n",
    "# Calculate the inverse of the product of the transpose of X and X\n",
    "x_transpose_x = torch.matmul(x_transpose, X)\n",
    "x_transpose_x_inverse = torch.inverse(x_transpose_x)\n",
    "\n",
    "# Calculate the product of the inverse of the product of the transpose of X and X and the transpose of X\n",
    "x_transpose_x_inverse_x_transpose = torch.matmul(x_transpose_x_inverse, x_transpose)\n",
    "\n",
    "# Calculate the product of the inverse of the product of the transpose of X and X and the transpose of X and Y\n",
    "beta = torch.matmul(x_transpose_x_inverse_x_transpose, Y)\n",
    "\n",
    "# Print the value of β\n",
    "print(\"Beta: \", beta)"
   ]
  },
  {
   "cell_type": "code",
   "execution_count": 9,
   "metadata": {},
   "outputs": [
    {
     "name": "stdout",
     "output_type": "stream",
     "text": [
      "Y hat:  tensor([[ 4.1174],\n",
      "        [ 6.1465],\n",
      "        [ 5.1665],\n",
      "        [ 7.1957],\n",
      "        [10.2739]])\n"
     ]
    }
   ],
   "source": [
    "# Calculate the vector Ŷ\n",
    "\n",
    "# Calculate the product of X and β\n",
    "x_beta = torch.matmul(x, beta)\n",
    "\n",
    "# Print the value of Ŷ\n",
    "print(\"Y hat: \", x_beta)"
   ]
  },
  {
   "cell_type": "code",
   "execution_count": 10,
   "metadata": {},
   "outputs": [
    {
     "name": "stdout",
     "output_type": "stream",
     "text": [
      "e:  tensor([[-0.1074],\n",
      "        [-0.1565],\n",
      "        [-0.1565],\n",
      "        [ 0.6843],\n",
      "        [-0.2639]])\n"
     ]
    }
   ],
   "source": [
    "# Calculate the vector e\n",
    "e = y - x_beta\n",
    "\n",
    "# Print the value of e\n",
    "print(\"e: \", e)"
   ]
  },
  {
   "cell_type": "code",
   "execution_count": null,
   "metadata": {},
   "outputs": [],
   "source": [
    "# You know that the data was simulated using y_i = 1 + x_1i + 2x_2i + ε_i as a data generator, comment your results (where you expecting smaller errors?)\n",
    "\n",
    "## I was expecting smaller errors because the sample size was small."
   ]
  }
 ],
 "metadata": {
  "kernelspec": {
   "display_name": "Python 3",
   "language": "python",
   "name": "python3"
  },
  "language_info": {
   "codemirror_mode": {
    "name": "ipython",
    "version": 3
   },
   "file_extension": ".py",
   "mimetype": "text/x-python",
   "name": "python",
   "nbconvert_exporter": "python",
   "pygments_lexer": "ipython3",
   "version": "3.11.3"
  },
  "orig_nbformat": 4
 },
 "nbformat": 4,
 "nbformat_minor": 2
}
